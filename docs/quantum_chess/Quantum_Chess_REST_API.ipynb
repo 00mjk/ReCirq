{
  "nbformat": 4,
  "nbformat_minor": 0,
  "metadata": {
    "colab": {
      "name": "Quantum_Chess_REST_API.ipynb",
      "provenance": [],
      "collapsed_sections": []
    },
    "kernelspec": {
      "name": "python3",
      "display_name": "Python 3"
    }
  },
  "cells": [
    {
      "cell_type": "markdown",
      "metadata": {
        "id": "vcvcW1TMuqRP"
      },
      "source": [
        "#Quantum Chess in Cirq\n",
        "Quantum Chess is a variant of chess that gives players access to extra moves which allow them to create superposition. All moves are applied to the game state via unitary evolution, allowing players to experience effects like superposition, entanglement, and interference. This project provides a limited implementation of the full Quantum Chess move set, executed on a set of qubits representing squares. Quantum Chess defines REST API, that gives the game the ability to offload the quantum state of the board to an external resource. In this notebook we will explore an implementation of this API, using the code from this project. For more information on how the actual Quantum Chess on Cirq implementation works, including details on qubit mapping and error correction, see the documentation here.\n",
        "\n",
        "First, we need to install the Quantum Chess package from recirq."
      ]
    },
    {
      "cell_type": "code",
      "metadata": {
        "id": "9emDSIkWLwAo"
      },
      "source": [
        "!pip install git+https://github.com/quantumlib/ReCirq/ -q\n",
        "import recirq\n",
        "import recirq.quantum_chess.ascii_board as ab\n",
        "\n",
        "b = ab.AsciiBoard()\n",
        "b.reset()\n",
        "print(b)"
      ],
      "execution_count": null,
      "outputs": []
    },
    {
      "cell_type": "markdown",
      "metadata": {
        "id": "Ha1eGYCtvtro"
      },
      "source": [
        "The ascii board is a convenience that can be used for testing the project imports.  The Quantum Chess REST API defines the interface, which used by the Quantum Chess Engine to assign an external resource to handle the quantum state of the game. This state encodes only the \"occupancy\" of each square on the board. Each square is mapped to a single qubit, where the state |1> corresponds to the square being occupied by a piece, and |0> is unoccupied. All piece type information, and rules checking, is handled classically within the Quantum Chess Engine. When implementing the API, we only neeed to use the CirqBoard. The following code shows how to initialize a CirqBoard with a single \"piece\" in square a1, and introduces a helper function to print out the probability distribution, and some diagnostic information from the instance of CirqBoard.\n"
      ]
    },
    {
      "cell_type": "code",
      "metadata": {
        "id": "y_NOwwjwfqsn"
      },
      "source": [
        "from recirq.quantum_chess.quantum_board import CirqBoard\n",
        "from recirq.quantum_chess.bit_utils import ( bit_to_square, xy_to_bit )\n",
        "from recirq.quantum_chess.move import to_rank\n",
        "\n",
        "def probabilities_to_board_str(probabilities):\n",
        "        \"\"\"Renders a ASCII diagram showing the board probabilities.\"\"\"\n",
        "        s = ''\n",
        "        s += ' +----------------------------------+\\n'\n",
        "        for y in reversed(range(8)):\n",
        "            s += str(y + 1) + '| '\n",
        "            for x in range(8):\n",
        "                bit = xy_to_bit(x, y)\n",
        "                prob = str(int(100 * probabilities[bit]))\n",
        "                if len(prob) <= 2:\n",
        "                    s += ' '\n",
        "                if prob == '0':\n",
        "                    s += '.'\n",
        "                else:\n",
        "                    s += prob\n",
        "                if len(prob) < 2:\n",
        "                    s += ' '\n",
        "                s += ' '\n",
        "            s += ' |\\n'\n",
        "        s += ' +----------------------------------+\\n    '\n",
        "        for x in range(8):\n",
        "           s += to_rank(x) + '   '\n",
        "        return s\n",
        "\n",
        "global_board = CirqBoard(1)\n",
        "\n",
        "def print_game(board, probs):\n",
        "    board.print_debug_log()\n",
        "    print('\\n' + probabilities_to_board_str(probs) + \"\\n\\n\")\n",
        "\n",
        "probs = global_board.get_probability_distribution()\n",
        "\n",
        "print_game(global_board, probs)"
      ],
      "execution_count": null,
      "outputs": []
    },
    {
      "cell_type": "markdown",
      "metadata": {
        "id": "s-B1gYs9lo0X"
      },
      "source": [
        "\n",
        "#Quantum Chess REST API\n",
        "The Quantum Chess REST API defines an interface for [REST](https://restfulapi.net/) endpoints that the Quantum Chess Engine can be directed to use when interacting with the quantum state of the game. The API declares an interface for three functions:\n",
        "* initialize\n",
        "* do_move\n",
        "* undo_move\n",
        "\n",
        "All three endpoints must return a json object with the following values:\n",
        "* probabilities: an array of 64 floating point numbers representing the probability of each square being occupied. Array indices are mapped to board squares in the same order as bitboard bits, i.e. 0 = a1, 1 = b1, ... 63 = h8.\n",
        "* empty_bitboard: A bitboard with bits set to 1 for all squares known to be empty, i.e. 0% chance of being occupied.\n",
        "* full_bitboard: A bitboard with bits set to 1 for all squares known to be occupied, i.e. 100% chance of being occupied.\n",
        "\n",
        "A [bitboard](https://www.chessprogramming.org/Bitboards) is a 64-bit integer, where each bit corresponds to a square on the chess board. The bitboard is encoded in little endian form, with the least significant bit corresponding to a1, and increasing along rows (b1, c1, ...) up to h8 in the most significant bit.\n"
      ]
    },
    {
      "cell_type": "markdown",
      "metadata": {
        "id": "gYNJ6tMHnyl-"
      },
      "source": [
        "##init(init_basis_state) : { probabilities, empty_bitboard, full_bitboard }\n",
        "The init function is used to initialize a quantum state to some classical starting position. It takes a single argument, init_basis_state, and returns a json object with three fields: probabilities, empty_bitboard, and full_bitboard.\n",
        "* init_basis_state: \n",
        "A bitboard which represents the initial classical state of the board, i.e. which squares have a piece on them.\n",
        "\n",
        "Here we define an implementation of init that prints out the probability distribution of the initialized board, and returns the appropriate json."
      ]
    },
    {
      "cell_type": "code",
      "metadata": {
        "id": "f182BGOkM-o1"
      },
      "source": [
        "def init(board, init_basis_state):\n",
        "  board.with_state(init_basis_state)\n",
        "  probs = board.get_probability_distribution()\n",
        "  print_game(board, probs)\n",
        "\n",
        "  return {\n",
        "      'probabilities' : probs,\n",
        "      'empty' : board.get_empty_squares_bitboard(),\n",
        "      'full' : board.get_full_squares_bitboard()\n",
        "  }\n",
        "\n",
        "r = init(global_board, 0xFFFF00000000FFFF)\n",
        "\n",
        "        "
      ],
      "execution_count": null,
      "outputs": []
    },
    {
      "cell_type": "markdown",
      "metadata": {
        "id": "3K-eTI6HpElY"
      },
      "source": [
        "##do_move( move ) : { probabilities, empty_bitboard, full_bitboard }\n",
        "The do_move function is used to apply a specific unitary to the qubits which corresponding to the squares involved in the move. It takes a single argument, move, which is a json object with the following fields:\n",
        "* square1: integer index of the first square.\n",
        "* square2: integer index of the second square.\n",
        "* square3: integer index of the third square, only used for split and merge moves.\n",
        "* type: enumerated type of move\n",
        "```\n",
        "    NULL_TYPE = 0, UNSPECIFIED_STANDARD = 1, JUMP = 2, SLIDE = 3,\n",
        "    SPLIT_JUMP = 4, SPLIT_SLIDE = 5, MERGE_JUMP = 6, MERGE_SLIDE = 7,\n",
        "    PAWN_STEP = 8, PAWN_TWO_STEP = 9, PAWN_CAPTURE = 10, PAWN_EP = 11,\n",
        "    KS_CASTLE = 12, QS_CASTLE = 13 \n",
        "```\n",
        "* variant: enumerated variant of move\n",
        "```\n",
        "    UNSPECIFIED = 0, BASIC = 1, EXCLUDED = 2, CAPTURE = 3\n",
        "```\n",
        "\n",
        "Here we define some helper functions to create Moves, which are used to apply specific unitaries to the qubits represented in the CirqBoard, and an implementation of do_move that will print the probability distribution for the pieces after the move."
      ]
    },
    {
      "cell_type": "code",
      "metadata": {
        "id": "GcZBfAeWpQhJ"
      },
      "source": [
        "from recirq.quantum_chess.move import Move\n",
        "from recirq.quantum_chess.enums import MoveType, MoveVariant\n",
        "\n",
        "# Helper function for creating a split move from json values\n",
        "def get_split_move(move_json):\n",
        "  return Move(\n",
        "    move_json['square1'],\n",
        "    move_json['square2'],\n",
        "    target2 = move_json['square3'],\n",
        "    move_type = MoveType(move_json['type']),\n",
        "    move_variant = MoveVariant(move_json['variant'])\n",
        "    )\n",
        "\n",
        "# Helper function for creating a merge move from json values\n",
        "def get_merge_move(move_json):\n",
        "  return Move(\n",
        "    move_json['square1'],\n",
        "    move_json['square3'],\n",
        "    source2 = move_json['square2'],\n",
        "    move_type = MoveType(move_json['type']),\n",
        "    move_variant = MoveVariant(move_json['variant'])\n",
        "    )\n",
        "\n",
        "# Helper function for creating a standard move from json values\n",
        "def get_standard_move(move_json):\n",
        "  return Move(\n",
        "    move_json['square1'],\n",
        "    move_json['square2'],\n",
        "    move_type = MoveType(move_json['type']),\n",
        "    move_variant = MoveVariant(move_json['variant'])\n",
        "    )\n",
        "    \n",
        "def do_move(board, move):\n",
        "  board.clear_debug_log()\n",
        "  r = board.do_move(move)\n",
        "  probs = board.get_probability_distribution()\n",
        "  print_game(board, probs)\n",
        "\n",
        "  return {\n",
        "      'result' : r,\n",
        "      'probabilities' : probs,\n",
        "      'empty' : board.get_empty_squares_bitboard(),\n",
        "      'full' : board.get_full_squares_bitboard()\n",
        "  }\n",
        "\n",
        "move_json = {'square1' : 'b1', 'square2' : 'a3', 'square3' : 'c3', 'type' : MoveType.SPLIT_JUMP, 'variant': MoveVariant.BASIC}\n",
        "split_b1_a3_c3 = get_split_move(move_json)\n",
        "\n",
        "r = init(global_board, 0xFFFF00000000FFFF)\n",
        "r = do_move(global_board, split_b1_a3_c3)\n",
        "    \n",
        "        "
      ],
      "execution_count": null,
      "outputs": []
    },
    {
      "cell_type": "markdown",
      "metadata": {
        "id": "I-qyQaOOqSDG"
      },
      "source": [
        "Notice, the circuit for te move is printed as well. This is made available in the board debug information. We can also see what happens when we use a noisy simulator for the board, and no error mitigation."
      ]
    },
    {
      "cell_type": "code",
      "metadata": {
        "id": "Po_roPFkqfYj"
      },
      "source": [
        "from recirq.quantum_chess.enums import ErrorMitigation\n",
        "from cirq import DensityMatrixSimulator, google\n",
        "from cirq.contrib.noise_models import DepolarizingNoiseModel\n",
        "\n",
        "NOISY_SAMPLER = DensityMatrixSimulator(noise= DepolarizingNoiseModel(\n",
        "    depol_prob=0.004))\n",
        "\n",
        "noisy_board = CirqBoard(0,\n",
        "                 sampler=NOISY_SAMPLER,\n",
        "                 device=google.Sycamore,\n",
        "                 error_mitigation= ErrorMitigation.Correct,\n",
        "                 noise_mitigation=0.05)\n",
        "\n",
        "r = init(noisy_board, 0xFFFF00000000FFFF)\n",
        "r = do_move(noisy_board, split_b1_a3_c3)"
      ],
      "execution_count": null,
      "outputs": []
    },
    {
      "cell_type": "markdown",
      "metadata": {
        "id": "1DyVRbChsNZ5"
      },
      "source": [
        "You may notice that the circuit run discarded some of the returned samples due to error mitigation and post selection."
      ]
    },
    {
      "cell_type": "markdown",
      "metadata": {
        "id": "DxaNPSsZvmrE"
      },
      "source": [
        "##undo_last_move( ) : { probabilities, empty_bitboard, full_bitboard }\n",
        "The undo_last_move function is used revert the quantum state to a state immediately before the last move that was executed. It takes no arguments, and returns the same json object as the previous endpoints."
      ]
    },
    {
      "cell_type": "code",
      "metadata": {
        "id": "mKvAxkgiwRQY"
      },
      "source": [
        "def undo_last_move(board):\n",
        "  board.clear_debug_log()\n",
        "\n",
        "  r = board.undo_last_move()\n",
        "  probs = board.get_probability_distribution()\n",
        "  print_game(board, probs)\n",
        "\n",
        "  return {\n",
        "      'result' : r,\n",
        "      'probabilities' : probs,\n",
        "      'empty' : board.get_empty_squares_bitboard(),\n",
        "      'full' : board.get_full_squares_bitboard()\n",
        "  }\n",
        "\n",
        "r = init(global_board, 0xFFFF00000000FFFF)\n",
        "r = do_move(global_board, split_b1_a3_c3)\n",
        "r = undo_last_move(global_board)"
      ],
      "execution_count": null,
      "outputs": []
    },
    {
      "cell_type": "markdown",
      "metadata": {
        "id": "KhNWwpSrwxXI"
      },
      "source": [
        "With the functionality in place, we can define our endpoints and run the server. We will use the [flask_restful](https://flask-restful.readthedocs.io/en/latest/) framework to create a simple server that implements these enpoints. Flask-restful allows us to encapsulate the functionality we want in classes that inherit from Resource. We will need to install flask-ngrok to give our server an accessible url."
      ]
    },
    {
      "cell_type": "code",
      "metadata": {
        "id": "hHk0IZsfw9xv"
      },
      "source": [
        "!pip install flask -q\n",
        "!pip install flask_restful -q\n",
        "!pip install flask-ngrok -q"
      ],
      "execution_count": null,
      "outputs": []
    },
    {
      "cell_type": "code",
      "metadata": {
        "id": "teRaid0y1DYC"
      },
      "source": [
        "from flask import Flask, request, jsonify\n",
        "from flask_restful import Resource, Api\n",
        "from flask_ngrok import run_with_ngrok\n",
        "\n",
        "class Init(Resource):\n",
        "  def get(self):\n",
        "    return {'about': 'Init'}\n",
        "\n",
        "  def post(self):\n",
        "    print(request.get_json())\n",
        "    n = request.get_json()['init_basis_state']\n",
        "    global_board.clear_debug_log()\n",
        "    return init(global_board,int(n))\n",
        "\n",
        "    \n",
        "class DoMove(Resource):\n",
        "  def post(self):\n",
        "    move_json = request.get_json()\n",
        "    t = MoveType(move_json['type'])\n",
        "    # We need to convert square indices to square names.\n",
        "    move_json['square1'] = bit_to_square(move_json['square1'])\n",
        "    move_json['square2'] = bit_to_square(move_json['square2'])\n",
        "    move_json['square3'] = bit_to_square(move_json['square3'])\n",
        "\n",
        "    if t == MoveType.SPLIT_SLIDE or t == MoveType.SPLIT_JUMP:\n",
        "      return do_move(global_board, get_split_move(move_json))\n",
        "    elif t == MoveType.MERGE_JUMP or t == MoveType.MERGE_SLIDE:\n",
        "      return do_move(global_board, get_merge_move(move_json))\n",
        "    else:\n",
        "      return do_move(global_board, get_standard_move(move_json))\n",
        "\n",
        "class UndoLastMove(Resource):\n",
        "    def post(self):\n",
        "        return undo_last_move(global_board)\n",
        "\n",
        "app = Flask(__name__)\n",
        "run_with_ngrok(app)\n",
        "\n",
        "api = Api(app)\n",
        "\n",
        "api.add_resource(Init, '/quantumboard/init')\n",
        "api.add_resource(DoMove, '/quantumboard/do_move')\n",
        "api.add_resource(UndoLastMove, '/quantumboard/undo_last_move')\n",
        "\n",
        "@app.route(\"/\")\n",
        "def home():\n",
        "    return \"<h1>Running Flask on Google Colab!</h1>\"\n",
        "\n",
        "if __name__ == '__main__':\n",
        "    app.run()"
      ],
      "execution_count": null,
      "outputs": []
    },
    {
      "cell_type": "markdown",
      "metadata": {
        "id": "nRr6NmF72Yf8"
      },
      "source": [
        "The server should now be running, and can be tested with the [Quantum Chess Client](./Quantum_Chess_Client.ipynb) notebook!"
      ]
    }
  ]
}