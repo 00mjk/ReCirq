{
  "nbformat": 4,
  "nbformat_minor": 0,
  "metadata": {
    "colab": {
      "name": "Quantum_Chess_Client.ipynb",
      "provenance": [],
      "collapsed_sections": []
    },
    "kernelspec": {
      "name": "python3",
      "display_name": "Python 3"
    }
  },
  "cells": [
    {
      "cell_type": "markdown",
      "metadata": {
        "id": "NsP1vVXYuo_-"
      },
      "source": [
        "This is a basic client meant to test the server implemented at the end of the  [Quantum Chess REST API](./Quantum_Chess_REST_API) documentation. "
      ]
    },
    {
      "cell_type": "code",
      "metadata": {
        "id": "zn40ny5Puj1A"
      },
      "source": [
        "!pip install git+https://github.com/quantumlib/ReCirq/ -q\n",
        "!pip install requests -q"
      ],
      "execution_count": null,
      "outputs": []
    },
    {
      "cell_type": "markdown",
      "metadata": {
        "id": "glA7YB4VxPDL"
      },
      "source": [
        "The server for the Quantum Chess Rest API endpoints should provide you with an ngrok url when you run it. **Change the url string below to match the url provided by your server**. If your server is running, the following code should produce the message: \"Running Flask on Google Colab!\""
      ]
    },
    {
      "cell_type": "markdown",
      "metadata": {
        "id": "Fq0LohtwYttz"
      },
      "source": [
        ""
      ]
    },
    {
      "cell_type": "code",
      "metadata": {
        "id": "4JOEEu-ewQ-X"
      },
      "source": [
        "url = 'http://d05004b852d5.ngrok.io'\n",
        "!curl -s $url"
      ],
      "execution_count": null,
      "outputs": []
    },
    {
      "cell_type": "markdown",
      "metadata": {
        "id": "pgvtoLl_YltL"
      },
      "source": [
        "You should be able to see the server output indicting a connection was made."
      ]
    },
    {
      "cell_type": "markdown",
      "metadata": {
        "id": "0Lm1rW1TXUzI"
      },
      "source": [
        "We can make a simple request to initialize a board with the starting occupancy state of all pieces."
      ]
    },
    {
      "cell_type": "code",
      "metadata": {
        "id": "YiDU-GISwi5Z"
      },
      "source": [
        "import requests\n",
        "\n",
        "init_board_json = { 'init_basis_state' : 18446462598732906495 }\n",
        "response = requests.post(url + '/quantumboard/init', json=init_board_json)\n",
        "\n",
        "print(response.content)"
      ],
      "execution_count": null,
      "outputs": []
    },
    {
      "cell_type": "markdown",
      "metadata": {
        "id": "CTpB3ARVXiph"
      },
      "source": [
        "Now we can execute a split move from b1 to a3 and c3"
      ]
    },
    {
      "cell_type": "code",
      "metadata": {
        "id": "0dXVki0VTH8u"
      },
      "source": [
        "from recirq.quantum_chess.enums import MoveType, MoveVariant\n",
        "from recirq.quantum_chess.bit_utils import square_to_bit\n",
        "\n",
        "split_b1_a3_c3 = {'square1' : square_to_bit('b1'), 'square2' : square_to_bit('a3'), 'square3' : square_to_bit('c3'), 'type' : int(MoveType.SPLIT_JUMP.value), 'variant': int(MoveVariant.BASIC.value)}\n",
        "response = requests.post(url + '/quantumboard/do_move', json=split_b1_a3_c3)\n",
        "print(response.content)\n"
      ],
      "execution_count": null,
      "outputs": []
    },
    {
      "cell_type": "markdown",
      "metadata": {
        "id": "mbJ7ogpZXnB_"
      },
      "source": [
        "A pawn two-step move, from c2 to c4, will entangle the pawn on c2 with the piece in superposition on a3 and c3."
      ]
    },
    {
      "cell_type": "code",
      "metadata": {
        "id": "2AmPlYGBygU2"
      },
      "source": [
        "move_c2_c4 = {'square1' : square_to_bit('c2'), 'square2' : square_to_bit('c4'), 'square3' : 0,'type' : int(MoveType.PAWN_TWO_STEP.value), 'variant': int(MoveVariant.BASIC.value)}\n",
        "response = requests.post(url + '/quantumboard/do_move', json=move_c2_c4)\n",
        "print(response.content)"
      ],
      "execution_count": null,
      "outputs": []
    },
    {
      "cell_type": "markdown",
      "metadata": {
        "id": "n0AxRGrDX62w"
      },
      "source": [
        "We can force a measurement of the c2 pawn by performing an excluded move of from d1 to c2."
      ]
    },
    {
      "cell_type": "code",
      "metadata": {
        "id": "_CuMRZxnXIRe"
      },
      "source": [
        "move_d1_c2 = {'square1' : square_to_bit('d1'), 'square2' : square_to_bit('c2'), 'square3' : 0, 'type' : int(MoveType.JUMP.value), 'variant': int(MoveVariant.EXCLUDED.value)}\n",
        "response = requests.post(url + '/quantumboard/do_move', json=move_d1_c2)\n",
        "print(response.content)"
      ],
      "execution_count": null,
      "outputs": []
    }
  ]
}